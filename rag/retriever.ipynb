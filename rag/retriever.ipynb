{
 "cells": [
  {
   "cell_type": "markdown",
   "metadata": {},
   "source": [
    "Retriever and chain with langchain"
   ]
  },
  {
   "cell_type": "code",
   "execution_count": 1,
   "metadata": {},
   "outputs": [],
   "source": [
    "#Pdf reader\n",
    "from langchain_community.document_loaders import PyPDFLoader\n",
    "loader=PyPDFLoader('Unit5_CA_CPU.pdf')\n",
    "docs=loader.load()\n"
   ]
  },
  {
   "cell_type": "code",
   "execution_count": 2,
   "metadata": {},
   "outputs": [
    {
     "data": {
      "text/plain": [
       "[Document(page_content='Unit-5\\nCENTRAL  PROCESSING  UNIT\\nBy\\nEr.Sachita Nand Mishra\\nM.E. in Computer and Electronics \\nEngineering', metadata={'source': 'Unit5_CA_CPU.pdf', 'page': 0}),\n",
       " Document(page_content='CENTRAL  PROCESSING  UNIT\\n•Introduction\\n•General Register Organization\\n•Stack Organization\\n•Instruction Formats\\n•Addressing Modes\\n•Data Transfer and Manipulation\\n•Program Control\\n•Reduced Instruction Set Computer', metadata={'source': 'Unit5_CA_CPU.pdf', 'page': 1}),\n",
       " Document(page_content='Introduction\\n•Part of computer that performs the bulk of data \\nprocessing operations is called the Central \\nprocessing Unit(CPU). It Consists of 3 major parts:\\noRegister set: stores intermediate data during execution of an \\ninstruction .\\noALU: performs various microoperations required \\noControl unit: supervises register transfers and instructs ALU', metadata={'source': 'Unit5_CA_CPU.pdf', 'page': 2}),\n",
       " Document(page_content='MAJOR  COMPONENTS  OF  CPUIntroduction \\n•Storage Components\\nRegisters\\nFlags\\n•Execution (Processing) Components\\nArithmetic Logic Unit(ALU)\\nArithmetic calculations, Logical computations, Shifts/Rotates\\n•Transfer Components\\nBus\\n•Control Components\\nControl UnitRegister\\nFileALU\\nControl Unit', metadata={'source': 'Unit5_CA_CPU.pdf', 'page': 3}),\n",
       " Document(page_content='REGISTERS\\n•In Basic Computer, there is only one general purpose register, \\nthe Accumulator (AC)\\n•In modern CPUs, there are many general purpose registers\\n•It is advantageous to have many registers\\n–Transfer between registers within the processor are relatively fast\\n–Going “off the processor” to access memory is much slower\\n•Why we need CPU registers? \\n\\uf0d8During instruction execution, we could store pointers, \\ncounters, return addresses, temporary results and partial \\nproducts in some locations in RAM, but having to refer \\nmemory locations for such applications is time \\nconsuming compared to instruction cycle. So for \\nconvenient and more efficient processing, we need \\nprocessor registers (connected through common bus \\nsystem) to store intermediate results.', metadata={'source': 'Unit5_CA_CPU.pdf', 'page': 4}),\n",
       " Document(page_content='GENERAL  REGISTER  ORGANIZATION\\nMUX SELA{ MUX }SELB\\nALU OPRR1\\nR2\\nR3\\nR4\\nR5\\nR6\\nR7Input\\n3 x 8\\ndecoder\\nSELD\\nLoad\\n(7 lines)\\nOutputA bus B busClockA bus organization of seven CPU registers is shown below:\\nFig: Block diagram(register organization)\\uf0d8All registers are\\nconnected to two\\nmultiplexers (MUX)\\nthat select the\\nregisters forbus A\\nandbusB.\\n\\uf0d8Registers selected\\nbymultiplexers are\\nsent toALU.\\n\\uf0d8Another selector\\n(OPR) connected to\\nALU selects the\\noperation fortheALU.\\n\\uf0d8Output produced by\\nALU isstored insome\\nregister and this\\ndestination register\\nforstoring theresult is\\nactivated by the\\ndestination decoder\\n(SELD) .', metadata={'source': 'Unit5_CA_CPU.pdf', 'page': 5}),\n",
       " Document(page_content='OPERATION  OF  CONTROL  UNIT\\nThe control unit \\nDirects the information flow through ALU by \\n-Selecting various Components in the system\\n-Selecting the Function of ALU\\nExample:  R1 \\uf0acR2 + R3\\n[1] MUX A selector (SELA):  BUS A \\uf0acR2\\n[2] MUX B selector (SELB):  BUS B \\uf0acR3\\n[3] ALU operation selector (OPR): ALU to ADD\\n[4] Decoder destination selector (SELD): R1 \\uf0acOut Bus\\nControl Word\\n\\uf0d8There are 14 binary selection inputs in the unit and their combined value Specifies a   control \\nword.\\n\\uf0d8Combination of all selection bits of a processing unit is called control word.\\n\\uf0d8Control Word for above CPU is as above:\\n\\uf0d8The 14 bit control word when applied to the selection inputs specify a particular microoperation .\\n\\uf0d8It consists of 4 fields.\\n\\uf0d8The 3 bits of SELA select a source register for the A input of ALU.\\n\\uf0d8The 3 bits of SELB select a register for B input of ALU.\\n\\uf0d8The 3 bits of SELD select a destination register using the decoder and its seven load outputs.', metadata={'source': 'Unit5_CA_CPU.pdf', 'page': 6}),\n",
       " Document(page_content='\\uf0d8The 3 bits of SELB select a register for B input of ALU.\\n\\uf0d8The 3 bits of SELD select a destination register using the decoder and its seven load outputs.\\n\\uf0d8The 5 bits of OPR select one of the operation in the ALUSELA SELB SELD OPR3 3 3 5', metadata={'source': 'Unit5_CA_CPU.pdf', 'page': 6}),\n",
       " Document(page_content='OPERATION  OF  CONTROL  UNIT\\n•Encoding of register selection fields\\nBinary\\nCode SELA SELB SELD\\n000 Input Input None\\n001 R1 R1 R1\\n010 R2 R2 R2\\n011 R3 R3 R3\\n100 R4 R4 R4\\n101 R5 R5 R5\\n110 R6 R6 R6\\n111 R7 R7 R7\\n\\uf0d8When SELA orSELB is000,corresponding multiplexer selects theexternal\\nInput data.\\n\\uf0d8When SELD is000,nodestination register isselected butthecontent of\\nOutput busareavailable intheexternal output .', metadata={'source': 'Unit5_CA_CPU.pdf', 'page': 7}),\n",
       " Document(page_content='ALU  CONTROL\\nEncoding of ALU operations OPR\\nSelect Operation Symbol\\n00000 Transfer A TSFA\\n00001 Increment A INCA\\n00010 ADD A + B ADD\\n00101 Subtract A -B SUB\\n00110 Decrement A DECA\\n01000 AND A and B AND\\n01010 OR A and B OR\\n01100 XOR A and B XOR\\n01110 Complement A COMA\\n10000 Shift right A SHRA\\n11000 Shift left A SHLA\\nExamples of ALU Microoperations\\nSymbolic Designation\\nMicrooperation SELA SELB SELD OPR Control Word\\nR1 \\uf0acR2 \\uf02dR3           R2        R3 R1       SUB        010  011  001  00101\\nR4 \\uf0acR4 \\uf0daR5          R4        R5 R4        OR         100  101  100  01010\\nR6 \\uf0acR6 + 1 R6 - R6       INCA      110  000  110  00001\\nR7 \\uf0acR1 R1 - R7       TSFA      001  000  111  00000\\nOutput \\uf0acR2            R2 - None    TSFA      010  000  000  00000\\nOutput \\uf0acInput     Input - None    TSFA      000  000  000  00000\\nR4 \\uf0acshlR4 R4 - R4      SHLA      100  000  100  11000\\nR5 \\uf0ac0 R5 R5 R5 XOR       101  101  101  01100', metadata={'source': 'Unit5_CA_CPU.pdf', 'page': 8})]"
      ]
     },
     "execution_count": 2,
     "metadata": {},
     "output_type": "execute_result"
    }
   ],
   "source": [
    "#spillting texts\n",
    "from langchain.text_splitter import RecursiveCharacterTextSplitter\n",
    "text_splitter=RecursiveCharacterTextSplitter(chunk_size=1000,chunk_overlap=200)\n",
    "documents=text_splitter.split_documents(docs)\n",
    "documents[:10]"
   ]
  },
  {
   "cell_type": "code",
   "execution_count": 3,
   "metadata": {},
   "outputs": [],
   "source": [
    "#vector embedding and vector store\n",
    "#FAAIS vector database\n",
    "from langchain_community.embeddings import OllamaEmbeddings\n",
    "from langchain_community.vectorstores import FAISS\n",
    "db=FAISS.from_documents(documents[:30],OllamaEmbeddings())"
   ]
  },
  {
   "cell_type": "code",
   "execution_count": 4,
   "metadata": {},
   "outputs": [
    {
     "data": {
      "text/plain": [
       "'ONE ADDRESS INSTRUCTIONS\\n•One-Address Instructions\\n-Use an implied AC register for all data manipulation\\n-Program to evaluate  X = (A + B) * (C + D) :\\nLOAD   A           /*  AC \\uf0acM[A]   */\\nADD     B           /*  AC \\uf0acAC + M[B]  */\\nSTORE  T            /*  M[T] \\uf0acAC   */\\nLOAD   C           /*  AC \\uf0acM[C]   */\\nADD     D           /*  AC \\uf0acAC + M[D] */\\nMUL     T            /*  AC \\uf0acAC * M[T] */\\nSTORE  X           /*  M[X] \\uf0acAC   */'"
      ]
     },
     "execution_count": 4,
     "metadata": {},
     "output_type": "execute_result"
    }
   ],
   "source": [
    "#vector database\n",
    "query=' GENERAL  REGISTER  ORGANIZATION'\n",
    "result=db.similarity_search(query)\n",
    "result[0].page_content"
   ]
  },
  {
   "cell_type": "code",
   "execution_count": 5,
   "metadata": {},
   "outputs": [],
   "source": [
    "from langchain_community.llms import Ollama\n",
    "#load ollama llama3 llm model\n",
    "llm=Ollama(model='llama3:latest')\n"
   ]
  },
  {
   "cell_type": "code",
   "execution_count": 6,
   "metadata": {},
   "outputs": [],
   "source": [
    "# design chat prompt \n",
    "from langchain_core.prompts import ChatPromptTemplate\n",
    "prompt=ChatPromptTemplate.from_template(\"\"\"\n",
    "Answer the following question based only on provided context.\n",
    "Think step by step before providing a detailed answer.\n",
    "<context>\n",
    "{context}      \n",
    "</context>  \n",
    "\n",
    "question:{input}                             \n",
    "\"\"\")"
   ]
  },
  {
   "cell_type": "code",
   "execution_count": 7,
   "metadata": {},
   "outputs": [],
   "source": [
    "#chain introduction\n",
    "#create stuff Document chain\n",
    "from langchain.chains.combine_documents import create_stuff_documents_chain\n",
    "document_chain=create_stuff_documents_chain(llm,prompt)\n"
   ]
  },
  {
   "cell_type": "code",
   "execution_count": 8,
   "metadata": {},
   "outputs": [
    {
     "data": {
      "text/plain": [
       "VectorStoreRetriever(tags=['FAISS', 'OllamaEmbeddings'], vectorstore=<langchain_community.vectorstores.faiss.FAISS object at 0x0000021C7F628940>)"
      ]
     },
     "execution_count": 8,
     "metadata": {},
     "output_type": "execute_result"
    }
   ],
   "source": [
    "retriver=db.as_retriever()\n",
    "retriver"
   ]
  },
  {
   "cell_type": "code",
   "execution_count": 9,
   "metadata": {},
   "outputs": [],
   "source": [
    "#combine retriever and document chain to make retrieval chain\n",
    "from langchain.chains import create_retrieval_chain\n",
    "retrieval_chain=create_retrieval_chain(retriver,document_chain)\n"
   ]
  },
  {
   "cell_type": "code",
   "execution_count": 10,
   "metadata": {},
   "outputs": [],
   "source": [
    "response=retrieval_chain.invoke({\"input\":\" Why we need CPU registers?\"})"
   ]
  },
  {
   "cell_type": "code",
   "execution_count": 12,
   "metadata": {},
   "outputs": [
    {
     "data": {
      "text/plain": [
       "\"A great question!\\n\\nIn the context of computer architecture, CPU (Central Processing Unit) registers are a crucial component that enables the CPU to efficiently execute instructions and manage data. Here's why we need CPU registers:\\n\\n1. **Fast Access**: Registers provide fast access to stored values, which is essential for efficient processing. They are located on the CPU chip, close to the execution units, making it much faster to access register contents compared to accessing main memory.\\n2. **Temporary Storage**: Registers act as temporary storage for intermediate results, allowing the CPU to perform complex calculations and operations without having to access main memory excessively.\\n3. **Addressing Mode Support**: As described in the context, registers can be used as part of addressing modes (e.g., indexed or base register addressing). This enables the CPU to access different parts of memory quickly and efficiently.\\n4. **Instruction Execution**: Registers are necessary for executing instructions that require accessing specific values or performing calculations on data stored in registers.\\n\\nIn summary, CPU registers provide:\\n\\n* Fast access to stored values\\n* Temporary storage for intermediate results\\n* Support for various addressing modes\\n* Essential functionality for instruction execution\\n\\nWithout registers, the CPU would need to access main memory more frequently, which would significantly slow down the processing and make it less efficient.\""
      ]
     },
     "execution_count": 12,
     "metadata": {},
     "output_type": "execute_result"
    }
   ],
   "source": [
    "response['answer']"
   ]
  },
  {
   "cell_type": "code",
   "execution_count": null,
   "metadata": {},
   "outputs": [],
   "source": []
  }
 ],
 "metadata": {
  "kernelspec": {
   "display_name": "langchain",
   "language": "python",
   "name": "python3"
  },
  "language_info": {
   "codemirror_mode": {
    "name": "ipython",
    "version": 3
   },
   "file_extension": ".py",
   "mimetype": "text/x-python",
   "name": "python",
   "nbconvert_exporter": "python",
   "pygments_lexer": "ipython3",
   "version": "3.10.14"
  }
 },
 "nbformat": 4,
 "nbformat_minor": 2
}
